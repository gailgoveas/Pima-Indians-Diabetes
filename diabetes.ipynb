{
 "cells": [
  {
   "cell_type": "markdown",
   "id": "04718554",
   "metadata": {},
   "source": [
    "## DTSC 710 Machine Learning Assignment 1\n",
    "\n",
    "Submitted by: Gail Elaine Goveas (1306196)"
   ]
  },
  {
   "cell_type": "markdown",
   "id": "8cd68014",
   "metadata": {},
   "source": [
    "## Part 1"
   ]
  },
  {
   "cell_type": "code",
   "execution_count": 1,
   "id": "57333932",
   "metadata": {},
   "outputs": [],
   "source": [
    "#importing modules\n",
    "\n",
    "import pandas as pd\n",
    "import numpy as np\n",
    "import time\n",
    "\n",
    "from matplotlib import pyplot as plt\n",
    "\n",
    "from sklearn.model_selection import train_test_split\n",
    "\n",
    "from sklearn.neighbors import KNeighborsClassifier \n",
    "\n",
    "from sklearn.metrics import confusion_matrix, accuracy_score, classification_report\n",
    "\n",
    "from sklearn.model_selection import KFold, cross_val_score, LeaveOneOut\n"
   ]
  },
  {
   "cell_type": "code",
   "execution_count": 2,
   "id": "6c69f660",
   "metadata": {},
   "outputs": [
    {
     "data": {
      "text/html": [
       "<div>\n",
       "<style scoped>\n",
       "    .dataframe tbody tr th:only-of-type {\n",
       "        vertical-align: middle;\n",
       "    }\n",
       "\n",
       "    .dataframe tbody tr th {\n",
       "        vertical-align: top;\n",
       "    }\n",
       "\n",
       "    .dataframe thead th {\n",
       "        text-align: right;\n",
       "    }\n",
       "</style>\n",
       "<table border=\"1\" class=\"dataframe\">\n",
       "  <thead>\n",
       "    <tr style=\"text-align: right;\">\n",
       "      <th></th>\n",
       "      <th>Pregnancies</th>\n",
       "      <th>Glucose</th>\n",
       "      <th>BloodPressure</th>\n",
       "      <th>SkinThickness</th>\n",
       "      <th>Insulin</th>\n",
       "      <th>BMI</th>\n",
       "      <th>DiabetesPedigreeFunction</th>\n",
       "      <th>Age</th>\n",
       "      <th>Outcome</th>\n",
       "    </tr>\n",
       "  </thead>\n",
       "  <tbody>\n",
       "    <tr>\n",
       "      <th>0</th>\n",
       "      <td>6</td>\n",
       "      <td>148</td>\n",
       "      <td>72</td>\n",
       "      <td>35</td>\n",
       "      <td>0</td>\n",
       "      <td>33.6</td>\n",
       "      <td>0.627</td>\n",
       "      <td>50</td>\n",
       "      <td>1</td>\n",
       "    </tr>\n",
       "    <tr>\n",
       "      <th>1</th>\n",
       "      <td>1</td>\n",
       "      <td>85</td>\n",
       "      <td>66</td>\n",
       "      <td>29</td>\n",
       "      <td>0</td>\n",
       "      <td>26.6</td>\n",
       "      <td>0.351</td>\n",
       "      <td>31</td>\n",
       "      <td>0</td>\n",
       "    </tr>\n",
       "    <tr>\n",
       "      <th>2</th>\n",
       "      <td>8</td>\n",
       "      <td>183</td>\n",
       "      <td>64</td>\n",
       "      <td>0</td>\n",
       "      <td>0</td>\n",
       "      <td>23.3</td>\n",
       "      <td>0.672</td>\n",
       "      <td>32</td>\n",
       "      <td>1</td>\n",
       "    </tr>\n",
       "    <tr>\n",
       "      <th>3</th>\n",
       "      <td>1</td>\n",
       "      <td>89</td>\n",
       "      <td>66</td>\n",
       "      <td>23</td>\n",
       "      <td>94</td>\n",
       "      <td>28.1</td>\n",
       "      <td>0.167</td>\n",
       "      <td>21</td>\n",
       "      <td>0</td>\n",
       "    </tr>\n",
       "    <tr>\n",
       "      <th>4</th>\n",
       "      <td>0</td>\n",
       "      <td>137</td>\n",
       "      <td>40</td>\n",
       "      <td>35</td>\n",
       "      <td>168</td>\n",
       "      <td>43.1</td>\n",
       "      <td>2.288</td>\n",
       "      <td>33</td>\n",
       "      <td>1</td>\n",
       "    </tr>\n",
       "  </tbody>\n",
       "</table>\n",
       "</div>"
      ],
      "text/plain": [
       "   Pregnancies  Glucose  BloodPressure  SkinThickness  Insulin   BMI  \\\n",
       "0            6      148             72             35        0  33.6   \n",
       "1            1       85             66             29        0  26.6   \n",
       "2            8      183             64              0        0  23.3   \n",
       "3            1       89             66             23       94  28.1   \n",
       "4            0      137             40             35      168  43.1   \n",
       "\n",
       "   DiabetesPedigreeFunction  Age  Outcome  \n",
       "0                     0.627   50        1  \n",
       "1                     0.351   31        0  \n",
       "2                     0.672   32        1  \n",
       "3                     0.167   21        0  \n",
       "4                     2.288   33        1  "
      ]
     },
     "execution_count": 2,
     "metadata": {},
     "output_type": "execute_result"
    }
   ],
   "source": [
    "#Loading the dataframe\n",
    "\n",
    "df = pd.read_csv('diabetes.csv')\n",
    "df.head()\n"
   ]
  },
  {
   "cell_type": "code",
   "execution_count": 3,
   "id": "e6403398",
   "metadata": {},
   "outputs": [
    {
     "data": {
      "text/plain": [
       "Pregnancies                   int64\n",
       "Glucose                       int64\n",
       "BloodPressure                 int64\n",
       "SkinThickness                 int64\n",
       "Insulin                       int64\n",
       "BMI                         float64\n",
       "DiabetesPedigreeFunction    float64\n",
       "Age                           int64\n",
       "Outcome                       int64\n",
       "dtype: object"
      ]
     },
     "execution_count": 3,
     "metadata": {},
     "output_type": "execute_result"
    }
   ],
   "source": [
    "df.dtypes"
   ]
  },
  {
   "cell_type": "code",
   "execution_count": 4,
   "id": "9c86a8d6",
   "metadata": {},
   "outputs": [],
   "source": [
    "#Dropping target data so as to scale only the features and not the label\n",
    "\n",
    "df_outcome = df[\"Outcome\"]\n",
    "df.drop(\"Outcome\", axis = 1, inplace = True)\n"
   ]
  },
  {
   "cell_type": "code",
   "execution_count": 5,
   "id": "1de4e681",
   "metadata": {},
   "outputs": [],
   "source": [
    "#Scale data using standard scaler\n",
    "\n",
    "df = (df - df.mean())/df.std()"
   ]
  },
  {
   "cell_type": "code",
   "execution_count": 6,
   "id": "1ec90666",
   "metadata": {},
   "outputs": [
    {
     "data": {
      "text/html": [
       "<div>\n",
       "<style scoped>\n",
       "    .dataframe tbody tr th:only-of-type {\n",
       "        vertical-align: middle;\n",
       "    }\n",
       "\n",
       "    .dataframe tbody tr th {\n",
       "        vertical-align: top;\n",
       "    }\n",
       "\n",
       "    .dataframe thead th {\n",
       "        text-align: right;\n",
       "    }\n",
       "</style>\n",
       "<table border=\"1\" class=\"dataframe\">\n",
       "  <thead>\n",
       "    <tr style=\"text-align: right;\">\n",
       "      <th></th>\n",
       "      <th>Pregnancies</th>\n",
       "      <th>Glucose</th>\n",
       "      <th>BloodPressure</th>\n",
       "      <th>SkinThickness</th>\n",
       "      <th>Insulin</th>\n",
       "      <th>BMI</th>\n",
       "      <th>DiabetesPedigreeFunction</th>\n",
       "      <th>Age</th>\n",
       "      <th>Outcome</th>\n",
       "    </tr>\n",
       "  </thead>\n",
       "  <tbody>\n",
       "    <tr>\n",
       "      <th>0</th>\n",
       "      <td>0.639530</td>\n",
       "      <td>0.847771</td>\n",
       "      <td>0.149543</td>\n",
       "      <td>0.906679</td>\n",
       "      <td>-0.692439</td>\n",
       "      <td>0.203880</td>\n",
       "      <td>0.468187</td>\n",
       "      <td>1.425067</td>\n",
       "      <td>1</td>\n",
       "    </tr>\n",
       "    <tr>\n",
       "      <th>1</th>\n",
       "      <td>-0.844335</td>\n",
       "      <td>-1.122665</td>\n",
       "      <td>-0.160441</td>\n",
       "      <td>0.530556</td>\n",
       "      <td>-0.692439</td>\n",
       "      <td>-0.683976</td>\n",
       "      <td>-0.364823</td>\n",
       "      <td>-0.190548</td>\n",
       "      <td>0</td>\n",
       "    </tr>\n",
       "    <tr>\n",
       "      <th>2</th>\n",
       "      <td>1.233077</td>\n",
       "      <td>1.942458</td>\n",
       "      <td>-0.263769</td>\n",
       "      <td>-1.287373</td>\n",
       "      <td>-0.692439</td>\n",
       "      <td>-1.102537</td>\n",
       "      <td>0.604004</td>\n",
       "      <td>-0.105515</td>\n",
       "      <td>1</td>\n",
       "    </tr>\n",
       "    <tr>\n",
       "      <th>3</th>\n",
       "      <td>-0.844335</td>\n",
       "      <td>-0.997558</td>\n",
       "      <td>-0.160441</td>\n",
       "      <td>0.154433</td>\n",
       "      <td>0.123221</td>\n",
       "      <td>-0.493721</td>\n",
       "      <td>-0.920163</td>\n",
       "      <td>-1.040871</td>\n",
       "      <td>0</td>\n",
       "    </tr>\n",
       "    <tr>\n",
       "      <th>4</th>\n",
       "      <td>-1.141108</td>\n",
       "      <td>0.503727</td>\n",
       "      <td>-1.503707</td>\n",
       "      <td>0.906679</td>\n",
       "      <td>0.765337</td>\n",
       "      <td>1.408828</td>\n",
       "      <td>5.481337</td>\n",
       "      <td>-0.020483</td>\n",
       "      <td>1</td>\n",
       "    </tr>\n",
       "  </tbody>\n",
       "</table>\n",
       "</div>"
      ],
      "text/plain": [
       "   Pregnancies   Glucose  BloodPressure  SkinThickness   Insulin       BMI  \\\n",
       "0     0.639530  0.847771       0.149543       0.906679 -0.692439  0.203880   \n",
       "1    -0.844335 -1.122665      -0.160441       0.530556 -0.692439 -0.683976   \n",
       "2     1.233077  1.942458      -0.263769      -1.287373 -0.692439 -1.102537   \n",
       "3    -0.844335 -0.997558      -0.160441       0.154433  0.123221 -0.493721   \n",
       "4    -1.141108  0.503727      -1.503707       0.906679  0.765337  1.408828   \n",
       "\n",
       "   DiabetesPedigreeFunction       Age  Outcome  \n",
       "0                  0.468187  1.425067        1  \n",
       "1                 -0.364823 -0.190548        0  \n",
       "2                  0.604004 -0.105515        1  \n",
       "3                 -0.920163 -1.040871        0  \n",
       "4                  5.481337 -0.020483        1  "
      ]
     },
     "execution_count": 6,
     "metadata": {},
     "output_type": "execute_result"
    }
   ],
   "source": [
    "#Concating the target to scaled features \n",
    "\n",
    "df = pd.concat([df, df_outcome], axis=1)\n",
    "df.head()"
   ]
  },
  {
   "cell_type": "code",
   "execution_count": 7,
   "id": "6245b131",
   "metadata": {},
   "outputs": [],
   "source": [
    "#Splitting data into training and testing set\n",
    "\n",
    "diabetes_features = df.drop(\"Outcome\", axis = 1)\n",
    "\n",
    "diabetes_target = df[\"Outcome\"]\n",
    "\n",
    "diabetes_training_data, diabetes_test_data, diabetes_training_target, diabetes_test_target = train_test_split(diabetes_features, diabetes_target, test_size=0.20,random_state=42)\n",
    "\n"
   ]
  },
  {
   "cell_type": "code",
   "execution_count": 8,
   "id": "4f4ec5f6",
   "metadata": {},
   "outputs": [],
   "source": [
    "#Determining the K value, and creating a visualization of the accuracy\n",
    "K = []\n",
    "scores = []\n",
    "\n",
    "for k in range(1, 26):\n",
    "    clf = KNeighborsClassifier(n_neighbors = k)\n",
    "    clf.fit(diabetes_training_data, diabetes_training_target)\n",
    "\n",
    "    diabetes_pred = clf.predict(diabetes_test_data)\n",
    "    \n",
    "    K.append(k)\n",
    "    scores.append(accuracy_score(diabetes_test_target, diabetes_pred))\n",
    "    \n",
    "    \n",
    "#acc_df = pd.DataFrame(list(zip(K, scores)),columns =['K_Value', 'Accuracy_Score'])\n",
    "#acc_df"
   ]
  },
  {
   "cell_type": "code",
   "execution_count": 9,
   "id": "e45938f8",
   "metadata": {},
   "outputs": [
    {
     "data": {
      "text/plain": [
       "Text(0, 0.5, 'Accuracy score')"
      ]
     },
     "execution_count": 9,
     "metadata": {},
     "output_type": "execute_result"
    },
    {
     "data": {
      "image/png": "[encoded data removed]",
      "text/plain": [
       "<Figure size 640x480 with 1 Axes>"
      ]
     },
     "metadata": {},
     "output_type": "display_data"
    }
   ],
   "source": [
    "#mapping K values and accuracy score\n",
    "\n",
    "plt.plot(K, scores)\n",
    "plt.xlabel(\"K Value for KNN\")\n",
    "plt.ylabel(\"Accuracy score\")"
   ]
  },
  {
   "cell_type": "markdown",
   "id": "72f79f95",
   "metadata": {},
   "source": [
    "The best k value for the given data set is 18 as it gives us the highest accuracy score of 76.6%."
   ]
  },
  {
   "cell_type": "markdown",
   "id": "69ee361f",
   "metadata": {},
   "source": [
    "For the cross_val_score function below, I have used the X and y representing the features and target label of the entire dataset. The cross_val_score function automatically splits the dataset into training and testing data set for each fold of validation.\n"
   ]
  },
  {
   "cell_type": "code",
   "execution_count": 10,
   "id": "c3e11a9e",
   "metadata": {},
   "outputs": [
    {
     "name": "stdout",
     "output_type": "stream",
     "text": [
      "Cross Validation Scores:  [0.75974026 0.66233766 0.77272727 0.83006536 0.75163399]\n",
      "\n",
      "Average CV Score:  0.7553009082420847\n",
      "\n",
      "Standard Deviation is  0.05397910816303026\n"
     ]
    }
   ],
   "source": [
    "#Run 5 fold cross validations - report mean and standard deviation\n",
    "\n",
    "X = df.iloc[: , :-1]\n",
    "y = df.iloc[: , -1]\n",
    "\n",
    "clf = KNeighborsClassifier(n_neighbors = 18)\n",
    "\n",
    "k_folds = KFold(n_splits = 5)\n",
    "\n",
    "scores = cross_val_score(clf, X , y, cv = k_folds)\n",
    "\n",
    "print(\"Cross Validation Scores: \", scores)\n",
    "print(\"\\nAverage CV Score: \", scores.mean())\n",
    "print(\"\\nStandard Deviation is \", scores.std())\n"
   ]
  },
  {
   "cell_type": "code",
   "execution_count": 11,
   "id": "d5fd3c5b",
   "metadata": {},
   "outputs": [
    {
     "name": "stdout",
     "output_type": "stream",
     "text": [
      "Confusion matrix:\n",
      " [[89 10]\n",
      " [26 29]]\n",
      "\n",
      "Accuracy is: 0.7662337662337663\n"
     ]
    }
   ],
   "source": [
    "#Evaluate using confusion matrix\n",
    "\n",
    "clf = KNeighborsClassifier(n_neighbors = 18)\n",
    "clf.fit(diabetes_training_data, diabetes_training_target)\n",
    "\n",
    "diabetes_pred = clf.predict(diabetes_test_data)\n",
    "\n",
    "conf_mat = confusion_matrix(diabetes_test_target, diabetes_pred)\n",
    "acc = (conf_mat[0][0] + conf_mat[1][1])/ conf_mat.sum()\n",
    "\n",
    "#using skleran\n",
    "#acc = accuracy_score(diabetes_test_target, diabetes_pred)\n",
    "\n",
    "print(\"Confusion matrix:\\n\" , conf_mat)\n",
    "print(\"\\nAccuracy is:\" , acc)"
   ]
  },
  {
   "cell_type": "markdown",
   "id": "937a8f76",
   "metadata": {},
   "source": [
    "For the K Nearest Neighbour model, I have set the number of neighbours value to 18 as this provides the highest accuracy between 1 to 25.\n",
    "\n",
    "The average accuracy of the model using 5- fold cross-validation method was 75.53%, and the accuracy obtained using confusion matrix is 76.62%. "
   ]
  },
  {
   "cell_type": "markdown",
   "id": "a95ddd0a",
   "metadata": {},
   "source": [
    "## Part 2"
   ]
  },
  {
   "cell_type": "code",
   "execution_count": 21,
   "id": "62a73e4b",
   "metadata": {},
   "outputs": [],
   "source": [
    "#importing modules \n",
    "\n",
    "from sklearn.naive_bayes import GaussianNB, MultinomialNB, BernoulliNB\n"
   ]
  },
  {
   "cell_type": "markdown",
   "id": "ddfd3d79",
   "metadata": {},
   "source": [
    "Since features with negative values cannot be used for MultinomialNB, \n",
    "I have created a different dataframe for part 2 where the features are not scaled. "
   ]
  },
  {
   "cell_type": "code",
   "execution_count": 22,
   "id": "49370dc5",
   "metadata": {},
   "outputs": [
    {
     "data": {
      "text/html": [
       "<div>\n",
       "<style scoped>\n",
       "    .dataframe tbody tr th:only-of-type {\n",
       "        vertical-align: middle;\n",
       "    }\n",
       "\n",
       "    .dataframe tbody tr th {\n",
       "        vertical-align: top;\n",
       "    }\n",
       "\n",
       "    .dataframe thead th {\n",
       "        text-align: right;\n",
       "    }\n",
       "</style>\n",
       "<table border=\"1\" class=\"dataframe\">\n",
       "  <thead>\n",
       "    <tr style=\"text-align: right;\">\n",
       "      <th></th>\n",
       "      <th>Pregnancies</th>\n",
       "      <th>Glucose</th>\n",
       "      <th>BloodPressure</th>\n",
       "      <th>SkinThickness</th>\n",
       "      <th>Insulin</th>\n",
       "      <th>BMI</th>\n",
       "      <th>DiabetesPedigreeFunction</th>\n",
       "      <th>Age</th>\n",
       "      <th>Outcome</th>\n",
       "    </tr>\n",
       "  </thead>\n",
       "  <tbody>\n",
       "    <tr>\n",
       "      <th>0</th>\n",
       "      <td>6</td>\n",
       "      <td>148</td>\n",
       "      <td>72</td>\n",
       "      <td>35</td>\n",
       "      <td>0</td>\n",
       "      <td>33.6</td>\n",
       "      <td>0.627</td>\n",
       "      <td>50</td>\n",
       "      <td>1</td>\n",
       "    </tr>\n",
       "    <tr>\n",
       "      <th>1</th>\n",
       "      <td>1</td>\n",
       "      <td>85</td>\n",
       "      <td>66</td>\n",
       "      <td>29</td>\n",
       "      <td>0</td>\n",
       "      <td>26.6</td>\n",
       "      <td>0.351</td>\n",
       "      <td>31</td>\n",
       "      <td>0</td>\n",
       "    </tr>\n",
       "    <tr>\n",
       "      <th>2</th>\n",
       "      <td>8</td>\n",
       "      <td>183</td>\n",
       "      <td>64</td>\n",
       "      <td>0</td>\n",
       "      <td>0</td>\n",
       "      <td>23.3</td>\n",
       "      <td>0.672</td>\n",
       "      <td>32</td>\n",
       "      <td>1</td>\n",
       "    </tr>\n",
       "    <tr>\n",
       "      <th>3</th>\n",
       "      <td>1</td>\n",
       "      <td>89</td>\n",
       "      <td>66</td>\n",
       "      <td>23</td>\n",
       "      <td>94</td>\n",
       "      <td>28.1</td>\n",
       "      <td>0.167</td>\n",
       "      <td>21</td>\n",
       "      <td>0</td>\n",
       "    </tr>\n",
       "    <tr>\n",
       "      <th>4</th>\n",
       "      <td>0</td>\n",
       "      <td>137</td>\n",
       "      <td>40</td>\n",
       "      <td>35</td>\n",
       "      <td>168</td>\n",
       "      <td>43.1</td>\n",
       "      <td>2.288</td>\n",
       "      <td>33</td>\n",
       "      <td>1</td>\n",
       "    </tr>\n",
       "  </tbody>\n",
       "</table>\n",
       "</div>"
      ],
      "text/plain": [
       "   Pregnancies  Glucose  BloodPressure  SkinThickness  Insulin   BMI  \\\n",
       "0            6      148             72             35        0  33.6   \n",
       "1            1       85             66             29        0  26.6   \n",
       "2            8      183             64              0        0  23.3   \n",
       "3            1       89             66             23       94  28.1   \n",
       "4            0      137             40             35      168  43.1   \n",
       "\n",
       "   DiabetesPedigreeFunction  Age  Outcome  \n",
       "0                     0.627   50        1  \n",
       "1                     0.351   31        0  \n",
       "2                     0.672   32        1  \n",
       "3                     0.167   21        0  \n",
       "4                     2.288   33        1  "
      ]
     },
     "execution_count": 22,
     "metadata": {},
     "output_type": "execute_result"
    }
   ],
   "source": [
    "df_1 = pd.read_csv('diabetes.csv')\n",
    "df_1.head()"
   ]
  },
  {
   "cell_type": "code",
   "execution_count": 23,
   "id": "e553b013",
   "metadata": {},
   "outputs": [],
   "source": [
    "#Splitting data into training and testing set\n",
    "\n",
    "nb_features = df_1.drop(\"Outcome\", axis = 1)\n",
    "\n",
    "nb_target = df_1[\"Outcome\"]\n",
    "\n",
    "nb_training_data, nb_test_data, nb_training_target, nb_test_target = train_test_split(nb_features, nb_target, test_size=0.20,random_state=42)\n",
    "\n"
   ]
  },
  {
   "cell_type": "code",
   "execution_count": 24,
   "id": "ea790496",
   "metadata": {},
   "outputs": [
    {
     "data": {
      "text/html": [
       "<style>#sk-container-id-1 {color: black;background-color: white;}#sk-container-id-1 pre{padding: 0;}#sk-container-id-1 div.sk-toggleable {background-color: white;}#sk-container-id-1 label.sk-toggleable__label {cursor: pointer;display: block;width: 100%;margin-bottom: 0;padding: 0.3em;box-sizing: border-box;text-align: center;}#sk-container-id-1 label.sk-toggleable__label-arrow:before {content: \"▸\";float: left;margin-right: 0.25em;color: #696969;}#sk-container-id-1 label.sk-toggleable__label-arrow:hover:before {color: black;}#sk-container-id-1 div.sk-estimator:hover label.sk-toggleable__label-arrow:before {color: black;}#sk-container-id-1 div.sk-toggleable__content {max-height: 0;max-width: 0;overflow: hidden;text-align: left;background-color: #f0f8ff;}#sk-container-id-1 div.sk-toggleable__content pre {margin: 0.2em;color: black;border-radius: 0.25em;background-color: #f0f8ff;}#sk-container-id-1 input.sk-toggleable__control:checked~div.sk-toggleable__content {max-height: 200px;max-width: 100%;overflow: auto;}#sk-container-id-1 input.sk-toggleable__control:checked~label.sk-toggleable__label-arrow:before {content: \"▾\";}#sk-container-id-1 div.sk-estimator input.sk-toggleable__control:checked~label.sk-toggleable__label {background-color: #d4ebff;}#sk-container-id-1 div.sk-label input.sk-toggleable__control:checked~label.sk-toggleable__label {background-color: #d4ebff;}#sk-container-id-1 input.sk-hidden--visually {border: 0;clip: rect(1px 1px 1px 1px);clip: rect(1px, 1px, 1px, 1px);height: 1px;margin: -1px;overflow: hidden;padding: 0;position: absolute;width: 1px;}#sk-container-id-1 div.sk-estimator {font-family: monospace;background-color: #f0f8ff;border: 1px dotted black;border-radius: 0.25em;box-sizing: border-box;margin-bottom: 0.5em;}#sk-container-id-1 div.sk-estimator:hover {background-color: #d4ebff;}#sk-container-id-1 div.sk-parallel-item::after {content: \"\";width: 100%;border-bottom: 1px solid gray;flex-grow: 1;}#sk-container-id-1 div.sk-label:hover label.sk-toggleable__label {background-color: #d4ebff;}#sk-container-id-1 div.sk-serial::before {content: \"\";position: absolute;border-left: 1px solid gray;box-sizing: border-box;top: 0;bottom: 0;left: 50%;z-index: 0;}#sk-container-id-1 div.sk-serial {display: flex;flex-direction: column;align-items: center;background-color: white;padding-right: 0.2em;padding-left: 0.2em;position: relative;}#sk-container-id-1 div.sk-item {position: relative;z-index: 1;}#sk-container-id-1 div.sk-parallel {display: flex;align-items: stretch;justify-content: center;background-color: white;position: relative;}#sk-container-id-1 div.sk-item::before, #sk-container-id-1 div.sk-parallel-item::before {content: \"\";position: absolute;border-left: 1px solid gray;box-sizing: border-box;top: 0;bottom: 0;left: 50%;z-index: -1;}#sk-container-id-1 div.sk-parallel-item {display: flex;flex-direction: column;z-index: 1;position: relative;background-color: white;}#sk-container-id-1 div.sk-parallel-item:first-child::after {align-self: flex-end;width: 50%;}#sk-container-id-1 div.sk-parallel-item:last-child::after {align-self: flex-start;width: 50%;}#sk-container-id-1 div.sk-parallel-item:only-child::after {width: 0;}#sk-container-id-1 div.sk-dashed-wrapped {border: 1px dashed gray;margin: 0 0.4em 0.5em 0.4em;box-sizing: border-box;padding-bottom: 0.4em;background-color: white;}#sk-container-id-1 div.sk-label label {font-family: monospace;font-weight: bold;display: inline-block;line-height: 1.2em;}#sk-container-id-1 div.sk-label-container {text-align: center;}#sk-container-id-1 div.sk-container {/* jupyter's `normalize.less` sets `[hidden] { display: none; }` but bootstrap.min.css set `[hidden] { display: none !important; }` so we also need the `!important` here to be able to override the default hidden behavior on the sphinx rendered scikit-learn.org. See: https://github.com/scikit-learn/scikit-learn/issues/21755 */display: inline-block !important;position: relative;}#sk-container-id-1 div.sk-text-repr-fallback {display: none;}</style><div id=\"sk-container-id-1\" class=\"sk-top-container\"><div class=\"sk-text-repr-fallback\"><pre>BernoulliNB(force_alpha=True)</pre><b>In a Jupyter environment, please rerun this cell to show the HTML representation or trust the notebook. <br />On GitHub, the HTML representation is unable to render, please try loading this page with nbviewer.org.</b></div><div class=\"sk-container\" hidden><div class=\"sk-item\"><div class=\"sk-estimator sk-toggleable\"><input class=\"sk-toggleable__control sk-hidden--visually\" id=\"sk-estimator-id-1\" type=\"checkbox\" checked><label for=\"sk-estimator-id-1\" class=\"sk-toggleable__label sk-toggleable__label-arrow\">BernoulliNB</label><div class=\"sk-toggleable__content\"><pre>BernoulliNB(force_alpha=True)</pre></div></div></div></div></div>"
      ],
      "text/plain": [
       "BernoulliNB(force_alpha=True)"
      ]
     },
     "execution_count": 24,
     "metadata": {},
     "output_type": "execute_result"
    }
   ],
   "source": [
    "#Training three classifiers using GaussianNB, MultinomialNB, and BernoulliNB\n",
    "\n",
    "clf1 = GaussianNB()\n",
    "clf1.fit(nb_training_data, nb_training_target)\n",
    "\n",
    "clf2 = MultinomialNB()\n",
    "clf2.fit(nb_training_data, nb_training_target)\n",
    "\n",
    "\n",
    "clf3 = BernoulliNB(force_alpha=True)\n",
    "clf3.fit(nb_training_data, nb_training_target)"
   ]
  },
  {
   "cell_type": "markdown",
   "id": "e54b59aa",
   "metadata": {},
   "source": [
    "Again, I have not split the data into training and validation set as the cross_val_score function does this. But instead of using the entire dataset I am only using the training set so that the model is not exposed to the test set. "
   ]
  },
  {
   "cell_type": "code",
   "execution_count": 25,
   "id": "5daf4b48",
   "metadata": {},
   "outputs": [
    {
     "name": "stdout",
     "output_type": "stream",
     "text": [
      "Gaussian Cross Validation Scores:  [0.72357724 0.76422764 0.75609756 0.73170732 0.75409836] \n",
      "with mean 0.7459416233506597 \n",
      "and standard deviation 0.01553599193880559\n",
      "\n",
      "Multinomial Cross Validation Scores:  [0.55284553 0.57723577 0.64227642 0.58536585 0.64754098] \n",
      "with mean 0.601052912168466 \n",
      "and standard deviation 0.0374107214840887\n",
      "\n",
      "Bernoulli Cross Validation Scores:  [0.71544715 0.6097561  0.60162602 0.67479675 0.6147541 ] \n",
      "with mean 0.6432760229241636 \n",
      "and standard deviation 0.04443880504324385\n"
     ]
    }
   ],
   "source": [
    "#Run 5 fold cross validations with training set and validation set \n",
    "\n",
    "k_folds = KFold(n_splits = 5)\n",
    "\n",
    "scores_gaus = cross_val_score(clf1, nb_training_data , nb_training_target, cv = k_folds)\n",
    "scores_multinomial = cross_val_score(clf2, nb_training_data , nb_training_target, cv = k_folds)\n",
    "scores_bernoulli = cross_val_score(clf3, nb_training_data , nb_training_target, cv = k_folds)\n",
    "\n",
    "print(\"Gaussian Cross Validation Scores: \", scores_gaus, '\\nwith mean',scores_gaus.mean(), '\\nand standard deviation', scores_gaus.std() )\n",
    "print(\"\\nMultinomial Cross Validation Scores: \", scores_multinomial, '\\nwith mean',scores_multinomial.mean(), '\\nand standard deviation', scores_multinomial.std() )\n",
    "print(\"\\nBernoulli Cross Validation Scores: \", scores_bernoulli, '\\nwith mean',scores_bernoulli.mean(), '\\nand standard deviation', scores_bernoulli.std() )\n",
    "\n"
   ]
  },
  {
   "cell_type": "code",
   "execution_count": 26,
   "id": "d3cbebde",
   "metadata": {},
   "outputs": [
    {
     "name": "stdout",
     "output_type": "stream",
     "text": [
      "The accuracy for Gaussian NB model is: 0.7662337662337663\n",
      "\n",
      "The accuracy for Multinomial NB model is: 0.6623376623376623\n",
      "\n",
      "The accuracy for Bernoulli NB model is: 0.6558441558441559\n"
     ]
    }
   ],
   "source": [
    "#Use test set (holdout set) for final testing.\n",
    "\n",
    "#Gaussian NB\n",
    "\n",
    "acc1 = clf1.score(nb_test_data, nb_test_target)\n",
    "\n",
    "print(\"The accuracy for Gaussian NB model is:\", acc1)\n",
    "\n",
    "#Multinomial NB\n",
    "\n",
    "acc2 = clf2.score(nb_test_data, nb_test_target)\n",
    "\n",
    "print(\"\\nThe accuracy for Multinomial NB model is:\", acc2)\n",
    "\n",
    "#Bernoulli NB\n",
    "\n",
    "acc3 = clf3.score(nb_test_data, nb_test_target)\n",
    "\n",
    "print(\"\\nThe accuracy for Bernoulli NB model is:\", acc3)"
   ]
  },
  {
   "cell_type": "markdown",
   "id": "95455380",
   "metadata": {},
   "source": [
    "Using the k-fold method on the training and validation sets, it can be observed that among the three Naive Bayes classifiers used, the Multinomial classifier has the lowest average accuracy of 60.10% followed by the Bernoulli classifier with an average accuracy of 64.32%. The Gaussian model had a significantly higher average accuracy compared to the other two models of 74.59%. \n",
    "\n",
    "\n",
    "\n",
    "However, when we use the holdout set for the final testing, the Bernoulli classifer had a higher accuracy score compared to the Multinomial model.  The accuracy for the Bernoulli and Multinomial classifiers are 65.58% and 66.23% respectively. The Gaussian model had the highest accuracy of 76.62%.\n",
    "\n",
    "\n",
    "Based on the above metrics, it can be said that the Gaussian NB model is the best NB model for the given dataset"
   ]
  },
  {
   "cell_type": "markdown",
   "id": "46a8f667",
   "metadata": {},
   "source": [
    "## Part 3"
   ]
  },
  {
   "cell_type": "code",
   "execution_count": 19,
   "id": "d121ec91",
   "metadata": {},
   "outputs": [],
   "source": [
    "# Retraining KNN and Gaussian NB using leave-one-out cross validation \n",
    "\n",
    "loo_cv = LeaveOneOut()\n",
    "\n",
    "#KNN\n",
    "t1 = time.time()\n",
    "knn_scores = cross_val_score(clf, X, y, cv = loo_cv)\n",
    "t2 = time.time()\n",
    "\n",
    "#Gaussian\n",
    "t3 = time.time()\n",
    "gaussian_scores = cross_val_score(clf1, X, y, cv = loo_cv)\n",
    "t4 = time.time()"
   ]
  },
  {
   "cell_type": "code",
   "execution_count": 20,
   "id": "95c38422",
   "metadata": {},
   "outputs": [
    {
     "name": "stdout",
     "output_type": "stream",
     "text": [
      "Mean of KNN model is: 0.7473958333333334 with standard deviation: 0.43450581313637865\n",
      "\n",
      "Mean of Gaussian NB model is: 0.75390625 with standard deviation: 0.4307338113161509\n"
     ]
    }
   ],
   "source": [
    "#Mean and standard deviation\n",
    "\n",
    "print(\"Mean of KNN model is:\", knn_scores.mean(), \"with standard deviation:\", knn_scores.std())\n",
    "print(\"\\nMean of Gaussian NB model is:\", gaussian_scores.mean(), \"with standard deviation:\", gaussian_scores.std())"
   ]
  },
  {
   "cell_type": "code",
   "execution_count": 21,
   "id": "ab31dd01",
   "metadata": {},
   "outputs": [
    {
     "name": "stdout",
     "output_type": "stream",
     "text": [
      "KNN Model run time is 3.9504 seconds\n",
      "\n",
      "Gaussuian Model run time is 3.303 seconds\n"
     ]
    }
   ],
   "source": [
    "#Model Run time\n",
    "\n",
    "print(\"KNN Model run time is\", round(t2 - t1, 4), \"seconds\")\n",
    "print(\"\\nGaussian Model run time is\", round(t4 - t3, 4), \"seconds\")"
   ]
  },
  {
   "cell_type": "markdown",
   "id": "a1b8ded6",
   "metadata": {},
   "source": [
    "The accuracy of the model for both KNN and Gaussian were higher using k-fold cross validation \n",
    "compared to the Leave one out classigication method. \n",
    "\n",
    "So in the previous section we noticed that the accuracy for KNN was 75.53% while using K-fold method and is 74.73% using the leave one out method.\n",
    "\n",
    "Similarly the accuracy for the Gaussian model was 76.62% using K-fold and is 75.39% using Leave one out method. "
   ]
  },
  {
   "cell_type": "markdown",
   "id": "d7d0a6fe",
   "metadata": {},
   "source": [
    "## Part 4"
   ]
  },
  {
   "cell_type": "markdown",
   "id": "74f22dbe",
   "metadata": {},
   "source": [
    "While evaluating the accuracy for KNN model using confusion matrix we got a accuracy of 76.62% and the Gaussian model also provided an accuracy of 76.6%.\n",
    "\n",
    "So if we take the leave one out method into consideration, the Gaussian model had a better performance than the KNN model. It also had a lower runtime. Taking these into consideration, the Gaussian model would be a better fit. "
   ]
  },
  {
   "cell_type": "code",
   "execution_count": 23,
   "id": "8a3a020d",
   "metadata": {},
   "outputs": [
    {
     "name": "stdout",
     "output_type": "stream",
     "text": [
      "The confusion matrix is\n",
      " [[79 20]\n",
      " [16 39]]\n",
      "\n",
      "The accuracy is 0.7662337662337663\n",
      "\n",
      "The classification report is as follows\n",
      "               precision    recall  f1-score   support\n",
      "\n",
      "           0       0.83      0.80      0.81        99\n",
      "           1       0.66      0.71      0.68        55\n",
      "\n",
      "    accuracy                           0.77       154\n",
      "   macro avg       0.75      0.75      0.75       154\n",
      "weighted avg       0.77      0.77      0.77       154\n",
      "\n"
     ]
    }
   ],
   "source": [
    "#Selecting Gaussian, and retraining the classifier with all the data available\n",
    "\n",
    "\n",
    "clf1.fit(diabetes_training_data, diabetes_training_target)\n",
    "\n",
    "diabetes_pred_1 = clf1.predict(diabetes_test_data)\n",
    "    \n",
    "\n",
    "mat_gaus = confusion_matrix(diabetes_test_target, diabetes_pred_1)\n",
    "acc_gaus = accuracy_score(diabetes_test_target, diabetes_pred_1)\n",
    "\n",
    "print(\"The confusion matrix is\\n\", mat_gaus)\n",
    "print(\"\\nThe accuracy is\", acc_gaus)\n",
    "print(\"\\nThe classification report is as follows\\n\", classification_report(diabetes_test_target, diabetes_pred_1))"
   ]
  }
 ],
 "metadata": {
  "kernelspec": {
   "display_name": "Python 3 (ipykernel)",
   "language": "python",
   "name": "python3"
  },
  "language_info": {
   "codemirror_mode": {
    "name": "ipython",
    "version": 3
   },
   "file_extension": ".py",
   "mimetype": "text/x-python",
   "name": "python",
   "nbconvert_exporter": "python",
   "pygments_lexer": "ipython3",
   "version": "3.10.0"
  }
 },
 "nbformat": 4,
 "nbformat_minor": 5
}
